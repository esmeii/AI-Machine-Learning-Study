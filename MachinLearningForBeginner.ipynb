{
  "nbformat": 4,
  "nbformat_minor": 0,
  "metadata": {
    "colab": {
      "name": "MachinLearningForBeginner.ipynb",
      "provenance": [],
      "authorship_tag": "ABX9TyNvFOI8eYFXSgn1Vph5gqsZ",
      "include_colab_link": true
    },
    "kernelspec": {
      "name": "python3",
      "display_name": "Python 3"
    },
    "language_info": {
      "name": "python"
    }
  },
  "cells": [
    {
      "cell_type": "markdown",
      "metadata": {
        "id": "view-in-github",
        "colab_type": "text"
      },
      "source": [
        "<a href=\"https://colab.research.google.com/github/hi-rama/AI-Machine-Learning-Study/blob/main/MachinLearningForBeginner.ipynb\" target=\"_parent\"><img src=\"https://colab.research.google.com/assets/colab-badge.svg\" alt=\"Open In Colab\"/></a>"
      ]
    },
    {
      "cell_type": "code",
      "execution_count": null,
      "metadata": {
        "id": "Et8XlUw7JNPl"
      },
      "outputs": [],
      "source": [
        ""
      ]
    },
    {
      "cell_type": "markdown",
      "source": [
        "https://www.mygreatlearning.com/blog/machine-learning-tutorial/#sh2"
      ],
      "metadata": {
        "id": "VH8IzoZfJgIP"
      }
    },
    {
      "cell_type": "markdown",
      "source": [
        "How is it different from traditional programming?\n",
        "\n",
        "---\n",
        "\n"
      ],
      "metadata": {
        "id": "yPUbXtTiJhPl"
      }
    },
    {
      "cell_type": "markdown",
      "source": [
        "Are you wondering how is Machine Learning different from traditional programming? Well, in traditional programming, we would feed the input data and a well written and tested program into a machine to generate output. When it comes to machine learning, input data along with the output associated with the data is fed into the machine during the learning phase, and it works out a program for itselt."
      ],
      "metadata": {
        "id": "zB3d7g8pJmB2"
      }
    },
    {
      "cell_type": "markdown",
      "source": [
        "How Does Machine Learning Work?\n",
        "---"
      ],
      "metadata": {
        "id": "5nrwHkBXKO99"
      }
    },
    {
      "cell_type": "markdown",
      "source": [
        "A machine learning model learns from the historical data fed to it and then builds prediction algorithms to predict the output for the new set of data the comes in as input to the system. The accuracy of these models would depend on the quality and amount of input data. The accuracy of these models would depend on the quality and amount of input data. A large amount of data will help build a better model which predicts the output more accurately.\n",
        "Suppose we have a complex problem at hand that requires to perform some predictions. Now, instread of writing a code, this problem could be solved by feeding the given data to generic machine learning algorithms. With the help of these algorithms, the machine will develop logic and predict the output. Machine learning has transformed the way we approach business and socail problems. Below is a diagram that briefly explains the working of a machine learning model. Our way of thinking about the problem. "
      ],
      "metadata": {
        "id": "jnyl8xJ9KVET"
      }
    },
    {
      "cell_type": "markdown",
      "source": [
        "Types of Machine Learning\n",
        "\n",
        "---\n",
        "\n"
      ],
      "metadata": {
        "id": "YIR0bwEELzBg"
      }
    },
    {
      "cell_type": "markdown",
      "source": [
        "1. Supervised Learning\n",
        "  Let us start with an easy example, say you are theaching a kid to differentiate dogs from cats. How would you do it?\n",
        "  In Supervised Learning, we have two sets of variables. One is called the target variable, or labels and features. We show the program the features and the label associated with these features and then the program is able to find the underlying pattern in the data. Take this example of the dataset where we want to predict the price of the house given its size. The price which is a target variable depends upon the size which is a feature.\n",
        "  We can group the supervised learning problems as:\n",
        "   - Regression problems - used to predict future values and the model is trained with the historical data\n",
        "   - Classification problems - Various labels train the algorithm to identify items within a specific category"
      ],
      "metadata": {
        "id": "p8ejB69bL2EF"
      }
    },
    {
      "cell_type": "markdown",
      "source": [
        "2. What is Unsupervised Learning?\n",
        "\n",
        "\n",
        "\n",
        "> This approach is the one where we have no target variables., and we have only the input variable at hand. The algorithm learns by itself and discovers an impressive structure in the data.\n",
        ">The goal is to decipher the underlying distribution in the data to gain more knowlledge about the data.\n",
        ">We can group the unsupervised learning problems as:\n",
        "    - Clustering: This means bunding the input variables with the same characteristics together.\n",
        "    -Association: Here, we discover the rules that govern meaningful associations among the data set\n",
        "      e.g.,People who watch X will also watch Y\n",
        "\n",
        "\n"
      ],
      "metadata": {
        "id": "kgJ0unrzNHNr"
      }
    },
    {
      "cell_type": "markdown",
      "source": [
        "https://towardsdatascience.com/a-comprehensive-guide-to-convolutional-neural-networks-the-eli5-way-3bd2b1164a53"
      ],
      "metadata": {
        "id": "UdPzsxPEOAAT"
      }
    },
    {
      "cell_type": "markdown",
      "source": [
        "A convolution Neural Network is a Deep Learning algorithm which can take in an input image, assign importance to various aspects in the image and be able to differentiate one from the other. The pro-processing required in a ConvNet is much lower as compared to other classification algorithms. While in primitive methods filters are hand-engineered, with enough training."
      ],
      "metadata": {
        "id": "ltkrlRgjOWDr"
      }
    },
    {
      "cell_type": "markdown",
      "source": [
        "\n",
        "\n",
        "---\n",
        "\n"
      ],
      "metadata": {
        "id": "zPAGKwY3R1eC"
      }
    },
    {
      "cell_type": "markdown",
      "source": [
        "지도학습은 레이블이 있는 데이터가 주어진 상태에서 학습하는 머신러닝 방식입니다. 지도학습의 대표적인 유형인 분류는 학습 데이터로 주어진 데이터의 feature와 레이블 ㄱ밧을 머신러닝 알고리즈믕로 학습해 모델을 생성하고, 이렇게 생성된 모델에 새로운 데이터 값이 주어졌을 때 미지의 레이블 값을 예측하는 것입니다. 즉, 기존 데이터가 어떤 레이블에 속하는지 패턴을 알고리즘으로 인지한 뒤에 새롭게 관측된 데이터에 대한 레이블을 판별하는 것입니다.\n",
        "분류(classification)은 다양한 머신러닝 알고리즘으로 구현할 수 있습니다.\n",
        "\n",
        "\n",
        "\n",
        "1.   나이브 베이즈\n",
        "2.   로지스틱 회귀\n",
        "3. 결정 트리\n",
        "4. 서포트 벡터 머신\n",
        "5. 최소 근접 알고리즘\n",
        "6. Neural network\n",
        "7. ensemble\n",
        "\n"
      ],
      "metadata": {
        "id": "qvwWRN6kQ-w9"
      }
    },
    {
      "cell_type": "markdown",
      "source": [
        "결정 트리\n",
        "\n",
        "\n",
        "> \n",
        "decision tree 는 알고리즘 중 이해하기 쉬운 알고리즘이다. 데이터에 있는 규칙을 학습을 통해 자동으로 찾아내 트리 기반의 분류 규칙을 만드는 것입니다.\n"
      ],
      "metadata": {
        "id": "yxLWYSWnRzas"
      }
    },
    {
      "cell_type": "markdown",
      "source": [
        "앙상블ㄹ 학습\n",
        "\n",
        "\n",
        "> 여러 개의 classifier 를 생성하고 그 예측을 결합함으로써 보다 정확한 최종 예측을 도출하는 기법을 말합니다. ㅇ단ㅇ리 분류기보다 신뢰성 높은 예측값을 얻는 것입니다.\n",
        "> XGboost\n",
        "\n"
      ],
      "metadata": {
        "id": "mOSfQxigSG4D"
      }
    }
  ]
}