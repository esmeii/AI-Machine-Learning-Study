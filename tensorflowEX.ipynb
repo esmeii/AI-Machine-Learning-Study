{
  "nbformat": 4,
  "nbformat_minor": 0,
  "metadata": {
    "colab": {
      "name": "tensorflowEX.ipynb",
      "provenance": [],
      "authorship_tag": "ABX9TyO3jITTVRnLPwacIKaf+yko",
      "include_colab_link": true
    },
    "kernelspec": {
      "name": "python3",
      "display_name": "Python 3"
    },
    "language_info": {
      "name": "python"
    },
    "accelerator": "GPU"
  },
  "cells": [
    {
      "cell_type": "markdown",
      "metadata": {
        "id": "view-in-github",
        "colab_type": "text"
      },
      "source": [
        "<a href=\"https://colab.research.google.com/github/hi-rama/AI-Machine-Learning-Study/blob/main/tensorflowEX.ipynb\" target=\"_parent\"><img src=\"https://colab.research.google.com/assets/colab-badge.svg\" alt=\"Open In Colab\"/></a>"
      ]
    },
    {
      "cell_type": "code",
      "execution_count": 2,
      "metadata": {
        "id": "rRx-CIOl3fRB"
      },
      "outputs": [],
      "source": [
        "import tensorflow as tf\n",
        "(X_train, y_train), (X_test, y_test) = tf.keras.datasets.mnist.load_data()\n",
        "# 입력 x 출력 y\n",
        "# X_train에는 손글씨 숫자 이미지가 대입되고\n",
        "# y_train에는 이미지가 의미하는 숫자가 대입됨니다."
      ]
    },
    {
      "cell_type": "code",
      "source": [
        "X_train, X_test = X_train/255.0, X_test/255.0\n",
        "\n",
        "# 입력층 노드 수 784개 -> 히든층 노드 개수 128개 -> 출력층 노드 10개\n",
        "# 뉴럴 네트워크 생성\n",
        "model = tf.keras.models.Sequential([\n",
        "      #크기가 28*28인 배열을 입력받아서 1차원 배열로 변환합니다.\n",
        "      tf.keras.layers.Flatten(input_shape=(28,28)),  \n",
        "      # 28 x 28 == 784            \n",
        "      tf.keras.layers.Dense(128, activation='relu'),\n",
        "      # 히든층의 노드 개수는 128, 활성함수는 relu\n",
        "      tf.keras.layers.Dropout(0.2),\n",
        "      # 오버피팅을 방지하기 위해 무작위로 이전 레이어의 출력을 20% 끕니다.\n",
        "      tf.keras.layers.Dense(10, activation='softmax')               \n",
        "      # 출력층의 노드 개수는 10, 활성함수는 softmax\n",
        "      # softmax함수를 사용하면 출력값 간의 편차가 커져서 분류하기 쉽습니다.\n",
        "\n",
        "])\n",
        "\n",
        "model.compile(\n",
        "    optimizer='adam',\n",
        "    # 옵티마저는 GD를 개선한 것입니다.\n",
        "    # 2차원 에러 함수에 GD란 현재 위치에서 \n",
        "    # 그 기울기를 빼서 에러가 최소화되는 방향으로 이동시킴\n",
        "    loss='sparse_categorical_crossentropy',\n",
        "    # 크로스 엔트로피를 loss 펑션으로 사용하빈다.\n",
        "    # 모델의 출력이 one hot 인코딩돼 있으면\n",
        "    # categorical_crossentropy를 사용하고\n",
        "    # 모델의 출려기 정수라면 sparse_categorical_crossentropy를 사용합니다.\n",
        "    metrics=['accuracy']\n",
        "    # 매트릭은 모델을 평가할 때 사용됩니다.\n",
        "    # 여기서는 정확도로 설정하였ㅅ브니다.\n",
        ")\n",
        "\n",
        "model.fit(X_train,y_train,epochs=5)\n",
        "# 5번 학습 시킴\n",
        "model.evaluate(X_test, y_test, verbose=2)\n",
        "# 테스트 데이터셋으로 모델 평가\n",
        "\n",
        "#진행할 수록 loss는 작아지고 정확도는 커집니다"
      ],
      "metadata": {
        "colab": {
          "base_uri": "https://localhost:8080/"
        },
        "id": "xhgZFu1R4ZfH",
        "outputId": "b8b620f1-caa1-4a62-d595-8b11b176b4d7"
      },
      "execution_count": 4,
      "outputs": [
        {
          "output_type": "stream",
          "name": "stdout",
          "text": [
            "Epoch 1/5\n",
            "1875/1875 [==============================] - 7s 3ms/step - loss: 1.2512 - accuracy: 0.6844\n",
            "Epoch 2/5\n",
            "1875/1875 [==============================] - 5s 3ms/step - loss: 0.5617 - accuracy: 0.8451\n",
            "Epoch 3/5\n",
            "1875/1875 [==============================] - 5s 3ms/step - loss: 0.4380 - accuracy: 0.8760\n",
            "Epoch 4/5\n",
            "1875/1875 [==============================] - 5s 3ms/step - loss: 0.3864 - accuracy: 0.8905\n",
            "Epoch 5/5\n",
            "1875/1875 [==============================] - 5s 3ms/step - loss: 0.3528 - accuracy: 0.8992\n",
            "313/313 - 1s - loss: 0.3019 - accuracy: 0.9146 - 792ms/epoch - 3ms/step\n"
          ]
        },
        {
          "output_type": "execute_result",
          "data": {
            "text/plain": [
              "[0.30189087986946106, 0.9146000146865845]"
            ]
          },
          "metadata": {},
          "execution_count": 4
        }
      ]
    }
  ]
}