{
 "cells": [
  {
   "cell_type": "code",
   "execution_count": 1,
   "id": "faa9655f",
   "metadata": {},
   "outputs": [
    {
     "name": "stdout",
     "output_type": "stream",
     "text": [
      "0    500\n",
      "1    268\n",
      "Name: Outcome, dtype: int64\n",
      "<class 'pandas.core.frame.DataFrame'>\n",
      "RangeIndex: 768 entries, 0 to 767\n",
      "Data columns (total 9 columns):\n",
      " #   Column                    Non-Null Count  Dtype  \n",
      "---  ------                    --------------  -----  \n",
      " 0   Pregnancies               768 non-null    int64  \n",
      " 1   Glucose                   768 non-null    int64  \n",
      " 2   BloodPressure             768 non-null    int64  \n",
      " 3   SkinThickness             768 non-null    int64  \n",
      " 4   Insulin                   768 non-null    int64  \n",
      " 5   BMI                       768 non-null    float64\n",
      " 6   DiabetesPedigreeFunction  768 non-null    float64\n",
      " 7   Age                       768 non-null    int64  \n",
      " 8   Outcome                   768 non-null    int64  \n",
      "dtypes: float64(2), int64(7)\n",
      "memory usage: 54.1 KB\n"
     ]
    }
   ],
   "source": [
    "import numpy as np\n",
    "import pandas as pd\n",
    "import matplotlib.pyplot as plt\n",
    "%matplotlib inline\n",
    "import warnings\n",
    "warnings.filterwarnings('ignore')\n",
    "from sklearn.model_selection import train_test_split\n",
    "from sklearn.metrics import accuracy_score, precision_score, recall_score, roc_auc_score\n",
    "from sklearn.metrics import f1_score, confusion_matrix, precision_recall_curve, roc_curve\n",
    "from sklearn.preprocessing import StandardScaler, Binarizer\n",
    "from sklearn.linear_model import LogisticRegression\n",
    "\n",
    "diabetes_data = pd.read_csv('diabetes.csv')\n",
    "print(diabetes_data['Outcome'].value_counts()) # 0또는 1을 반환\n",
    "diabetes_data.info() #768 개의 데이터, 9개의 칼럼"
   ]
  },
  {
   "cell_type": "code",
   "execution_count": 2,
   "id": "d3501b55",
   "metadata": {},
   "outputs": [],
   "source": [
    "# 평가 지표를 출력하는 함수 생성\n",
    "def get_clf_eval(y_test, y_pred):\n",
    "    confusion = confusion_matrix(y_test, y_pred)\n",
    "    accuracy  = accuracy_score(y_test,y_pred)\n",
    "    precision = precision_score(y_test, y_pred)\n",
    "    recall = recall_score(y_test,y_pred)\n",
    "    F1 = f1_score(y_test, y_pred)\n",
    "    AUC = roc_auc_score(y_test, y_pred)\n",
    "    \n",
    "    print(\"오차행렬:\\n\",confusion)\n",
    "    print('\\n정확도{:.4f}'.format(accuracy))\n",
    "    print('정밀도: {:.4f}'.format(precision))\n",
    "    print('재현율:{:.4f}'.format(recall))\n",
    "    print('F1: {:.4f}'.format(F1))\n",
    "    print('AUC:{:.4f}'.format(AUC))"
   ]
  },
  {
   "cell_type": "code",
   "execution_count": 3,
   "id": "647aa018",
   "metadata": {},
   "outputs": [],
   "source": [
    "# Precision-Recall Curve Plot 그리기\n",
    "def precision_recall_curve_plot(y_test,pred_proba):\n",
    "    #threshold ndarray와 threshold에 따른 정밀도, 재현율 ndarray 추출\n",
    "    precisions, recalls, thresholds = precision_recall_curve(y_test,pred_proba)\n",
    "    \n",
    "    #x축을 threshold, y축을 정밀도, 재현율로 그래프 그리기\n",
    "    plt.figure(figsize=(8,6))\n",
    "    thresholds_boundary = thresholds.shape[0]\n",
    "    plt.plot(thresholds, precisions[:thresholds_boundary],linestyle='--',\n",
    "            label='precision')\n",
    "    plt.plot(thresholds, recalls[:thresholds_boundary],linestyle=':',label='recall')\n",
    "    \n",
    "    # threshold의 값 x축의 scale을 0,1 단위로 변경\n",
    "    stard, end = plt.xlim()\n",
    "    plt.xticks(np.round(np.arange(stard,end,0.1),2))\n",
    "    plt.xlim()\n",
    "    plt.xlabel('thresholds')\n",
    "    plt.ylabel('precision & recall value')\n",
    "    plt.legend()\n",
    "    plt.grid()"
   ]
  },
  {
   "cell_type": "code",
   "execution_count": 4,
   "id": "7ac50a54",
   "metadata": {},
   "outputs": [
    {
     "name": "stdout",
     "output_type": "stream",
     "text": [
      "오차행렬:\n",
      " [[88 12]\n",
      " [23 31]]\n",
      "\n",
      "정확도0.7727\n",
      "정밀도: 0.7209\n",
      "재현율:0.5741\n",
      "F1: 0.6392\n",
      "AUC:0.7270\n"
     ]
    }
   ],
   "source": [
    "#로지스틱 회귀를 이용해 예측 모델을 생성해 보겠습니다. 데이터 세트를 피처 데이터 세트와 클래스 데이터 세트로 나누고\n",
    "# 학습 데이터와 test 데이터로 분리\n",
    "\n",
    "#feature = X, label = y\n",
    "X = diabetes_data.iloc[:,:-1] \n",
    "#맨 끝이 Outcome 칼럼이브로 레이블 값임\n",
    "y = diabetes_data.iloc[:,-1]\n",
    "# data.iloc[:,-1] # 마지막 열만 선택한다는 뜻이다.\n",
    "# 즉, y = diabetes_data['Outcome']과 같은 의미이다.\n",
    "\n",
    "X_train, X_test, y_train, y_test = train_test_split(X,y,test_size=0.2,random_state=156,stratify=y)\n",
    "\n",
    "#로지스틱 회귀로 학습\n",
    "lr_clf = LogisticRegression()\n",
    "lr_clf.fit(X_train,y_train)\n",
    "pred = lr_clf.predict(X_test)\n",
    "pred_proba = lr_clf.predict_proba(X_test)[:,1] # [:,1] 두 번째 열만 본다\n",
    "\n",
    "get_clf_eval(y_test,pred)"
   ]
  },
  {
   "cell_type": "code",
   "execution_count": 5,
   "id": "5e780680",
   "metadata": {},
   "outputs": [
    {
     "data": {
      "image/png": "[encoded data removed]",
      "text/plain": [
       "<Figure size 576x432 with 1 Axes>"
      ]
     },
     "metadata": {
      "needs_background": "light"
     },
     "output_type": "display_data"
    }
   ],
   "source": [
    "# 임계값 별로 정밀도-재현율 출력\n",
    "pred_proba = lr_clf.predict_proba(X_test)[:,1]\n",
    "precision_recall_curve_plot(y_test, pred_proba)\n",
    "# 정밀도-재현율 그래프를 보면 임계값(threshold)을 0.42 정도로 맞추면 정밀도와 재현율이\n",
    "#균형을 이룰 것으로 보임\n",
    "# 이 때의 정밀도, 재현율은 0.7 정도이므로 높은 수준이 아님."
   ]
  },
  {
   "cell_type": "code",
   "execution_count": 6,
   "id": "36b0abad",
   "metadata": {},
   "outputs": [
    {
     "data": {
      "text/html": [
       "<div>\n",
       "<style scoped>\n",
       "    .dataframe tbody tr th:only-of-type {\n",
       "        vertical-align: middle;\n",
       "    }\n",
       "\n",
       "    .dataframe tbody tr th {\n",
       "        vertical-align: top;\n",
       "    }\n",
       "\n",
       "    .dataframe thead th {\n",
       "        text-align: right;\n",
       "    }\n",
       "</style>\n",
       "<table border=\"1\" class=\"dataframe\">\n",
       "  <thead>\n",
       "    <tr style=\"text-align: right;\">\n",
       "      <th></th>\n",
       "      <th>Pregnancies</th>\n",
       "      <th>Glucose</th>\n",
       "      <th>BloodPressure</th>\n",
       "      <th>SkinThickness</th>\n",
       "      <th>Insulin</th>\n",
       "      <th>BMI</th>\n",
       "      <th>DiabetesPedigreeFunction</th>\n",
       "      <th>Age</th>\n",
       "      <th>Outcome</th>\n",
       "    </tr>\n",
       "  </thead>\n",
       "  <tbody>\n",
       "    <tr>\n",
       "      <th>count</th>\n",
       "      <td>768.000000</td>\n",
       "      <td>768.000000</td>\n",
       "      <td>768.000000</td>\n",
       "      <td>768.000000</td>\n",
       "      <td>768.000000</td>\n",
       "      <td>768.000000</td>\n",
       "      <td>768.000000</td>\n",
       "      <td>768.000000</td>\n",
       "      <td>768.000000</td>\n",
       "    </tr>\n",
       "    <tr>\n",
       "      <th>mean</th>\n",
       "      <td>3.845052</td>\n",
       "      <td>120.894531</td>\n",
       "      <td>69.105469</td>\n",
       "      <td>20.536458</td>\n",
       "      <td>79.799479</td>\n",
       "      <td>31.992578</td>\n",
       "      <td>0.471876</td>\n",
       "      <td>33.240885</td>\n",
       "      <td>0.348958</td>\n",
       "    </tr>\n",
       "    <tr>\n",
       "      <th>std</th>\n",
       "      <td>3.369578</td>\n",
       "      <td>31.972618</td>\n",
       "      <td>19.355807</td>\n",
       "      <td>15.952218</td>\n",
       "      <td>115.244002</td>\n",
       "      <td>7.884160</td>\n",
       "      <td>0.331329</td>\n",
       "      <td>11.760232</td>\n",
       "      <td>0.476951</td>\n",
       "    </tr>\n",
       "    <tr>\n",
       "      <th>min</th>\n",
       "      <td>0.000000</td>\n",
       "      <td>0.000000</td>\n",
       "      <td>0.000000</td>\n",
       "      <td>0.000000</td>\n",
       "      <td>0.000000</td>\n",
       "      <td>0.000000</td>\n",
       "      <td>0.078000</td>\n",
       "      <td>21.000000</td>\n",
       "      <td>0.000000</td>\n",
       "    </tr>\n",
       "    <tr>\n",
       "      <th>25%</th>\n",
       "      <td>1.000000</td>\n",
       "      <td>99.000000</td>\n",
       "      <td>62.000000</td>\n",
       "      <td>0.000000</td>\n",
       "      <td>0.000000</td>\n",
       "      <td>27.300000</td>\n",
       "      <td>0.243750</td>\n",
       "      <td>24.000000</td>\n",
       "      <td>0.000000</td>\n",
       "    </tr>\n",
       "    <tr>\n",
       "      <th>50%</th>\n",
       "      <td>3.000000</td>\n",
       "      <td>117.000000</td>\n",
       "      <td>72.000000</td>\n",
       "      <td>23.000000</td>\n",
       "      <td>30.500000</td>\n",
       "      <td>32.000000</td>\n",
       "      <td>0.372500</td>\n",
       "      <td>29.000000</td>\n",
       "      <td>0.000000</td>\n",
       "    </tr>\n",
       "    <tr>\n",
       "      <th>75%</th>\n",
       "      <td>6.000000</td>\n",
       "      <td>140.250000</td>\n",
       "      <td>80.000000</td>\n",
       "      <td>32.000000</td>\n",
       "      <td>127.250000</td>\n",
       "      <td>36.600000</td>\n",
       "      <td>0.626250</td>\n",
       "      <td>41.000000</td>\n",
       "      <td>1.000000</td>\n",
       "    </tr>\n",
       "    <tr>\n",
       "      <th>max</th>\n",
       "      <td>17.000000</td>\n",
       "      <td>199.000000</td>\n",
       "      <td>122.000000</td>\n",
       "      <td>99.000000</td>\n",
       "      <td>846.000000</td>\n",
       "      <td>67.100000</td>\n",
       "      <td>2.420000</td>\n",
       "      <td>81.000000</td>\n",
       "      <td>1.000000</td>\n",
       "    </tr>\n",
       "  </tbody>\n",
       "</table>\n",
       "</div>"
      ],
      "text/plain": [
       "       Pregnancies     Glucose  BloodPressure  SkinThickness     Insulin  \\\n",
       "count   768.000000  768.000000     768.000000     768.000000  768.000000   \n",
       "mean      3.845052  120.894531      69.105469      20.536458   79.799479   \n",
       "std       3.369578   31.972618      19.355807      15.952218  115.244002   \n",
       "min       0.000000    0.000000       0.000000       0.000000    0.000000   \n",
       "25%       1.000000   99.000000      62.000000       0.000000    0.000000   \n",
       "50%       3.000000  117.000000      72.000000      23.000000   30.500000   \n",
       "75%       6.000000  140.250000      80.000000      32.000000  127.250000   \n",
       "max      17.000000  199.000000     122.000000      99.000000  846.000000   \n",
       "\n",
       "              BMI  DiabetesPedigreeFunction         Age     Outcome  \n",
       "count  768.000000                768.000000  768.000000  768.000000  \n",
       "mean    31.992578                  0.471876   33.240885    0.348958  \n",
       "std      7.884160                  0.331329   11.760232    0.476951  \n",
       "min      0.000000                  0.078000   21.000000    0.000000  \n",
       "25%     27.300000                  0.243750   24.000000    0.000000  \n",
       "50%     32.000000                  0.372500   29.000000    0.000000  \n",
       "75%     36.600000                  0.626250   41.000000    1.000000  \n",
       "max     67.100000                  2.420000   81.000000    1.000000  "
      ]
     },
     "execution_count": 6,
     "metadata": {},
     "output_type": "execute_result"
    }
   ],
   "source": [
    "# 데이터를 먼저 다시 확인해서 개선할 부분이 있는지 확인\n",
    "diabetes_data.describe()"
   ]
  },
  {
   "cell_type": "code",
   "execution_count": 7,
   "id": "70a9abd8",
   "metadata": {},
   "outputs": [
    {
     "data": {
      "image/png": "[encoded data removed]",
      "text/plain": [
       "<Figure size 432x288 with 1 Axes>"
      ]
     },
     "metadata": {
      "needs_background": "light"
     },
     "output_type": "display_data"
    },
    {
     "data": {
      "image/png": "[encoded data removed]",
      "text/plain": [
       "<Figure size 432x288 with 1 Axes>"
      ]
     },
     "metadata": {
      "needs_background": "light"
     },
     "output_type": "display_data"
    },
    {
     "data": {
      "image/png": "[encoded data removed]",
      "text/plain": [
       "<Figure size 432x288 with 1 Axes>"
      ]
     },
     "metadata": {
      "needs_background": "light"
     },
     "output_type": "display_data"
    },
    {
     "data": {
      "image/png": "[encoded data removed]",
      "text/plain": [
       "<Figure size 432x288 with 1 Axes>"
      ]
     },
     "metadata": {
      "needs_background": "light"
     },
     "output_type": "display_data"
    },
    {
     "data": {
      "image/png": "[encoded data removed]",
      "text/plain": [
       "<Figure size 432x288 with 1 Axes>"
      ]
     },
     "metadata": {
      "needs_background": "light"
     },
     "output_type": "display_data"
    }
   ],
   "source": [
    "# 최소 값이 0인 것들이 많이 존재함.\n",
    "feature_list = ['Glucose','BloodPressure','SkinThickness','Insulin','BMI']\n",
    "def hist_plot(df):\n",
    "    for col in feature_list:\n",
    "        df[col].plot(kind='hist', bins=20).set_title('Histogram of'+col)\n",
    "        plt.show()\n",
    "hist_plot(diabetes_data)"
   ]
  },
  {
   "cell_type": "code",
   "execution_count": 8,
   "id": "68d0e2a6",
   "metadata": {},
   "outputs": [
    {
     "data": {
      "text/html": [
       "<div>\n",
       "<style scoped>\n",
       "    .dataframe tbody tr th:only-of-type {\n",
       "        vertical-align: middle;\n",
       "    }\n",
       "\n",
       "    .dataframe tbody tr th {\n",
       "        vertical-align: top;\n",
       "    }\n",
       "\n",
       "    .dataframe thead th {\n",
       "        text-align: right;\n",
       "    }\n",
       "</style>\n",
       "<table border=\"1\" class=\"dataframe\">\n",
       "  <thead>\n",
       "    <tr style=\"text-align: right;\">\n",
       "      <th></th>\n",
       "      <th>count</th>\n",
       "      <th>percent</th>\n",
       "    </tr>\n",
       "  </thead>\n",
       "  <tbody>\n",
       "    <tr>\n",
       "      <th>Glucose</th>\n",
       "      <td>5.0</td>\n",
       "      <td>0.65</td>\n",
       "    </tr>\n",
       "    <tr>\n",
       "      <th>BloodPressure</th>\n",
       "      <td>35.0</td>\n",
       "      <td>4.56</td>\n",
       "    </tr>\n",
       "    <tr>\n",
       "      <th>SkinThickness</th>\n",
       "      <td>227.0</td>\n",
       "      <td>29.56</td>\n",
       "    </tr>\n",
       "    <tr>\n",
       "      <th>Insulin</th>\n",
       "      <td>374.0</td>\n",
       "      <td>48.70</td>\n",
       "    </tr>\n",
       "    <tr>\n",
       "      <th>BMI</th>\n",
       "      <td>11.0</td>\n",
       "      <td>1.43</td>\n",
       "    </tr>\n",
       "  </tbody>\n",
       "</table>\n",
       "</div>"
      ],
      "text/plain": [
       "               count  percent\n",
       "Glucose          5.0     0.65\n",
       "BloodPressure   35.0     4.56\n",
       "SkinThickness  227.0    29.56\n",
       "Insulin        374.0    48.70\n",
       "BMI             11.0     1.43"
      ]
     },
     "execution_count": 8,
     "metadata": {},
     "output_type": "execute_result"
    }
   ],
   "source": [
    "# 위 칼럼들에 대한 0 값의 비율 확인\n",
    "zero_count = []\n",
    "zero_percent = []\n",
    "for col in feature_list:\n",
    "    zero_num = diabetes_data[diabetes_data[col]==0].shape[0]\n",
    "    zero_count.append(zero_num)\n",
    "    zero_percent.append(np.round(zero_num/diabetes_data.shape[0]*100,2))\n",
    "zero = pd.DataFrame([zero_count,zero_percent], columns=feature_list, index=\n",
    "                   ['count','percent']).T\n",
    "zero"
   ]
  },
  {
   "cell_type": "code",
   "execution_count": 9,
   "id": "4ab32a38",
   "metadata": {},
   "outputs": [],
   "source": [
    "# Skin Thickness와 Insulin의 경우 0 값의 비율이 상당히 높으므로 0 대신 평균 값으로 대체한다.\n",
    "# 0 값을 NaN 값으로 대체\n",
    "diabetes_data[feature_list] = diabetes_data[feature_list].replace(0,np.nan)\n",
    "#######왜 0을 Nan으로 바꾼 다음 평균으로 대체할까?\n",
    "# 위 5개 feature에 대해 0값을 평균으로 대체\n",
    "mean_features = diabetes_data[feature_list].mean()\n",
    "diabetes_data[feature_list] = diabetes_data[feature_list].replace(np.nan, mean_features)"
   ]
  },
  {
   "cell_type": "code",
   "execution_count": 10,
   "id": "87d370fe",
   "metadata": {},
   "outputs": [
    {
     "name": "stdout",
     "output_type": "stream",
     "text": [
      "오차행렬:\n",
      " [[88 12]\n",
      " [24 30]]\n",
      "\n",
      "정확도0.7662\n",
      "정밀도: 0.7143\n",
      "재현율:0.5556\n",
      "F1: 0.6250\n",
      "AUC:0.7178\n"
     ]
    }
   ],
   "source": [
    "# 데이터 세트에 대해 feature scaling을 적용해 변환하겠습니다.\n",
    "# 로지스틱 회귀의 경우 일반적으로 숫자 데이터 스케일링을 적용하는 것이 좋습니다.\n",
    "# 이후에 다시 학습/테스트 데이터 세트로 나누고 로지스틱 회귀를 통해 성능 평가하겠습니다.\n",
    "\n",
    "X = diabetes_data.iloc[:,:-1]\n",
    "y = diabetes_data.iloc[:,-1]\n",
    "\n",
    "# StandardScalar 클래스를 이용해 feature에 일괄적으로 스케일링 \n",
    "scalar = StandardScaler()\n",
    "X_scaled = scalar.fit_transform(X)\n",
    "\n",
    "X_train, X_test, y_train,y_test = train_test_split(X_scaled,y,test_size=0.2, \n",
    "                                                  random_state=11,stratify=y)\n",
    "#로지스틱 회귀로 학습 \n",
    "lr_clf = LogisticRegression()\n",
    "lr_clf.fit(X_train, y_train)\n",
    "pred = lr_clf.predict(X_test)\n",
    "get_clf_eval(y_test,pred)"
   ]
  },
  {
   "cell_type": "code",
   "execution_count": 11,
   "id": "3271bc7e",
   "metadata": {},
   "outputs": [],
   "source": [
    "# 0 값을 평균값으로 바꾸고, 스케일링을 통해 성능이 개선되었다. "
   ]
  },
  {
   "cell_type": "code",
   "execution_count": 12,
   "id": "4ae569d8",
   "metadata": {},
   "outputs": [],
   "source": [
    "# 평가지표를 조사하기 위한 새로운 함수 생성\n",
    "def get_eval_by_threshold(y_test, pred_proba_c1, thresholds):\n",
    "    #thresholds list 객체 내의 값을 iteration 하면서 평가 수행\n",
    "    for custom_threshold in thresholds:\n",
    "        binarizer = Binarizer(threshold=custom_threshold).fit(pred_proba_c1)\n",
    "        custom_predict = binarizer.transform(pred_proba_c1)\n",
    "        print('\\n임계값: ', custom_threshold)\n",
    "        get_clf_eval(y_test, custom_predict)"
   ]
  },
  {
   "cell_type": "code",
   "execution_count": 14,
   "id": "38a19168",
   "metadata": {},
   "outputs": [
    {
     "name": "stdout",
     "output_type": "stream",
     "text": [
      "\n",
      "임계값:  0.3\n",
      "오차행렬:\n",
      " [[73 27]\n",
      " [13 41]]\n",
      "\n",
      "정확도0.7403\n",
      "정밀도: 0.6029\n",
      "재현율:0.7593\n",
      "F1: 0.6721\n",
      "AUC:0.7446\n",
      "\n",
      "임계값:  0.33\n",
      "오차행렬:\n",
      " [[78 22]\n",
      " [14 40]]\n",
      "\n",
      "정확도0.7662\n",
      "정밀도: 0.6452\n",
      "재현율:0.7407\n",
      "F1: 0.6897\n",
      "AUC:0.7604\n",
      "\n",
      "임계값:  0.36\n",
      "오차행렬:\n",
      " [[79 21]\n",
      " [16 38]]\n",
      "\n",
      "정확도0.7597\n",
      "정밀도: 0.6441\n",
      "재현율:0.7037\n",
      "F1: 0.6726\n",
      "AUC:0.7469\n",
      "\n",
      "임계값:  0.39\n",
      "오차행렬:\n",
      " [[81 19]\n",
      " [17 37]]\n",
      "\n",
      "정확도0.7662\n",
      "정밀도: 0.6607\n",
      "재현율:0.6852\n",
      "F1: 0.6727\n",
      "AUC:0.7476\n",
      "\n",
      "임계값:  0.42\n",
      "오차행렬:\n",
      " [[83 17]\n",
      " [18 36]]\n",
      "\n",
      "정확도0.7727\n",
      "정밀도: 0.6792\n",
      "재현율:0.6667\n",
      "F1: 0.6729\n",
      "AUC:0.7483\n",
      "\n",
      "임계값:  0.45\n",
      "오차행렬:\n",
      " [[84 16]\n",
      " [20 34]]\n",
      "\n",
      "정확도0.7662\n",
      "정밀도: 0.6800\n",
      "재현율:0.6296\n",
      "F1: 0.6538\n",
      "AUC:0.7348\n",
      "\n",
      "임계값:  0.48\n",
      "오차행렬:\n",
      " [[88 12]\n",
      " [23 31]]\n",
      "\n",
      "정확도0.7727\n",
      "정밀도: 0.7209\n",
      "재현율:0.5741\n",
      "F1: 0.6392\n",
      "AUC:0.7270\n",
      "\n",
      "임계값:  0.5\n",
      "오차행렬:\n",
      " [[88 12]\n",
      " [24 30]]\n",
      "\n",
      "정확도0.7662\n",
      "정밀도: 0.7143\n",
      "재현율:0.5556\n",
      "F1: 0.6250\n",
      "AUC:0.7178\n"
     ]
    }
   ],
   "source": [
    "thresholds = [0.3,0.33,0.36,0.39, 0.42, 0.45, 0.48, 0.50]\n",
    "pred_proba = lr_clf.predict_proba(X_test)\n",
    "get_eval_by_threshold(y_test, pred_proba[:,1].reshape(-1,1), thresholds)"
   ]
  },
  {
   "cell_type": "code",
   "execution_count": 15,
   "id": "16cbebbf",
   "metadata": {},
   "outputs": [
    {
     "name": "stdout",
     "output_type": "stream",
     "text": [
      "오차행렬:\n",
      " [[88 12]\n",
      " [23 31]]\n",
      "\n",
      "정확도0.7727\n",
      "정밀도: 0.7209\n",
      "재현율:0.5741\n",
      "F1: 0.6392\n",
      "AUC:0.7270\n"
     ]
    }
   ],
   "source": [
    "# 임계값을 0.48로 설정하여 예측 수행\n",
    "binarizer = Binarizer(threshold=0.48)\n",
    "\n",
    "# 위에서 구한 predict_proba() 예측확률의 array에서 1에 해당하는 칼럼 값을\n",
    "# 대입하여 Binarizer 반환하기\n",
    "pred_th_048 = binarizer.fit_transform(pred_proba[:,1].reshape(-1,1))\n",
    "# Binarizer 클래스를 이용해 predict_proba()로 추출한 예측 결과 확률 값을 변환해\n",
    "# 변경된 임계값에 따른 예측 클래스 값을 구해 보겟습니다.\n",
    "get_clf_eval(y_test,pred_th_048)"
   ]
  },
  {
   "cell_type": "code",
   "execution_count": null,
   "id": "b4e00c17",
   "metadata": {},
   "outputs": [],
   "source": []
  }
 ],
 "metadata": {
  "kernelspec": {
   "display_name": "Python 3 (ipykernel)",
   "language": "python",
   "name": "python3"
  },
  "language_info": {
   "codemirror_mode": {
    "name": "ipython",
    "version": 3
   },
   "file_extension": ".py",
   "mimetype": "text/x-python",
   "name": "python",
   "nbconvert_exporter": "python",
   "pygments_lexer": "ipython3",
   "version": "3.9.7"
  }
 },
 "nbformat": 4,
 "nbformat_minor": 5
}
