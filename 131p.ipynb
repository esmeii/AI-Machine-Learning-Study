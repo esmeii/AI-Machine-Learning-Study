{
 "cells": [
  {
   "cell_type": "code",
   "execution_count": 59,
   "id": "bae2eb4e",
   "metadata": {},
   "outputs": [
    {
     "data": {
      "text/html": [
       "<div>\n",
       "<style scoped>\n",
       "    .dataframe tbody tr th:only-of-type {\n",
       "        vertical-align: middle;\n",
       "    }\n",
       "\n",
       "    .dataframe tbody tr th {\n",
       "        vertical-align: top;\n",
       "    }\n",
       "\n",
       "    .dataframe thead th {\n",
       "        text-align: right;\n",
       "    }\n",
       "</style>\n",
       "<table border=\"1\" class=\"dataframe\">\n",
       "  <thead>\n",
       "    <tr style=\"text-align: right;\">\n",
       "      <th></th>\n",
       "      <th>PassengerId</th>\n",
       "      <th>Survived</th>\n",
       "      <th>Pclass</th>\n",
       "      <th>Name</th>\n",
       "      <th>Sex</th>\n",
       "      <th>Age</th>\n",
       "      <th>SibSp</th>\n",
       "      <th>Parch</th>\n",
       "      <th>Ticket</th>\n",
       "      <th>Fare</th>\n",
       "      <th>Cabin</th>\n",
       "      <th>Embarked</th>\n",
       "    </tr>\n",
       "  </thead>\n",
       "  <tbody>\n",
       "    <tr>\n",
       "      <th>0</th>\n",
       "      <td>1</td>\n",
       "      <td>0</td>\n",
       "      <td>3</td>\n",
       "      <td>Braund, Mr. Owen Harris</td>\n",
       "      <td>male</td>\n",
       "      <td>22.0</td>\n",
       "      <td>1</td>\n",
       "      <td>0</td>\n",
       "      <td>A/5 21171</td>\n",
       "      <td>7.2500</td>\n",
       "      <td>NaN</td>\n",
       "      <td>S</td>\n",
       "    </tr>\n",
       "    <tr>\n",
       "      <th>1</th>\n",
       "      <td>2</td>\n",
       "      <td>1</td>\n",
       "      <td>1</td>\n",
       "      <td>Cumings, Mrs. John Bradley (Florence Briggs Th...</td>\n",
       "      <td>female</td>\n",
       "      <td>38.0</td>\n",
       "      <td>1</td>\n",
       "      <td>0</td>\n",
       "      <td>PC 17599</td>\n",
       "      <td>71.2833</td>\n",
       "      <td>C85</td>\n",
       "      <td>C</td>\n",
       "    </tr>\n",
       "    <tr>\n",
       "      <th>2</th>\n",
       "      <td>3</td>\n",
       "      <td>1</td>\n",
       "      <td>3</td>\n",
       "      <td>Heikkinen, Miss. Laina</td>\n",
       "      <td>female</td>\n",
       "      <td>26.0</td>\n",
       "      <td>0</td>\n",
       "      <td>0</td>\n",
       "      <td>STON/O2. 3101282</td>\n",
       "      <td>7.9250</td>\n",
       "      <td>NaN</td>\n",
       "      <td>S</td>\n",
       "    </tr>\n",
       "  </tbody>\n",
       "</table>\n",
       "</div>"
      ],
      "text/plain": [
       "   PassengerId  Survived  Pclass  \\\n",
       "0            1         0       3   \n",
       "1            2         1       1   \n",
       "2            3         1       3   \n",
       "\n",
       "                                                Name     Sex   Age  SibSp  \\\n",
       "0                            Braund, Mr. Owen Harris    male  22.0      1   \n",
       "1  Cumings, Mrs. John Bradley (Florence Briggs Th...  female  38.0      1   \n",
       "2                             Heikkinen, Miss. Laina  female  26.0      0   \n",
       "\n",
       "   Parch            Ticket     Fare Cabin Embarked  \n",
       "0      0         A/5 21171   7.2500   NaN        S  \n",
       "1      0          PC 17599  71.2833   C85        C  \n",
       "2      0  STON/O2. 3101282   7.9250   NaN        S  "
      ]
     },
     "execution_count": 59,
     "metadata": {},
     "output_type": "execute_result"
    }
   ],
   "source": [
    "import numpy as np\n",
    "import pandas as pd\n",
    "import matplotlib.pyplot as plt\n",
    "import seaborn as sns\n",
    "%matplotlib inline \n",
    " # 노트북을 실행한 브라우저에서 그래픽이 보이게 함\n",
    "titanic_df = pd.read_csv('train.csv')\n",
    "titanic_df.head(3)"
   ]
  },
  {
   "cell_type": "code",
   "execution_count": 60,
   "id": "a6ef284a",
   "metadata": {},
   "outputs": [
    {
     "name": "stdout",
     "output_type": "stream",
     "text": [
      "<class 'pandas.core.frame.DataFrame'>\n",
      "RangeIndex: 891 entries, 0 to 890\n",
      "Data columns (total 12 columns):\n",
      " #   Column       Non-Null Count  Dtype  \n",
      "---  ------       --------------  -----  \n",
      " 0   PassengerId  891 non-null    int64  \n",
      " 1   Survived     891 non-null    int64  \n",
      " 2   Pclass       891 non-null    int64  \n",
      " 3   Name         891 non-null    object \n",
      " 4   Sex          891 non-null    object \n",
      " 5   Age          714 non-null    float64\n",
      " 6   SibSp        891 non-null    int64  \n",
      " 7   Parch        891 non-null    int64  \n",
      " 8   Ticket       891 non-null    object \n",
      " 9   Fare         891 non-null    float64\n",
      " 10  Cabin        204 non-null    object \n",
      " 11  Embarked     889 non-null    object \n",
      "dtypes: float64(2), int64(5), object(5)\n",
      "memory usage: 83.7+ KB\n",
      "None\n"
     ]
    }
   ],
   "source": [
    "# DataFrame의 info()메소드를 통해 데이터 칼럼 타입을 확인할 수 있다.\n",
    "print(titanic_df.info())"
   ]
  },
  {
   "cell_type": "code",
   "execution_count": 61,
   "id": "275e385f",
   "metadata": {},
   "outputs": [],
   "source": [
    "#RangeIndex는 DataFrame 인덱스의 범위를 나타내므로 전체 row 수를 알 수있다. \n",
    "# 사이킷런의 머신러닝 알고리즘은 Null값을 허용하지 않으므로 Null값을 처리할지 결정해야 한다.\n",
    "# DataFrame()의 fillna() 함수를 사용해 Null 또는 다른 값으로 변경한다.\n",
    "# Age는 평균으로, 나머지는 'N'으로 변경한다.\n",
    "\n",
    "titanic_df['Age'].fillna(titanic_df['Age'].mean(), inplace=True)\n",
    "titanic_df['Cabin'].fillna('N',inplace=True)\n",
    "titanic_df['Embarked'].fillna('N', inplace=True)\n"
   ]
  },
  {
   "cell_type": "code",
   "execution_count": 62,
   "id": "811df12b",
   "metadata": {},
   "outputs": [
    {
     "name": "stdout",
     "output_type": "stream",
     "text": [
      "male      577\n",
      "female    314\n",
      "Name: Sex, dtype: int64\n"
     ]
    }
   ],
   "source": [
    "# String features의 경우 Sex, Cabin, Embarked인데,\n",
    "print(titanic_df['Sex'].value_counts())\n"
   ]
  },
  {
   "cell_type": "code",
   "execution_count": 63,
   "id": "1f5aa269",
   "metadata": {},
   "outputs": [
    {
     "name": "stdout",
     "output_type": "stream",
     "text": [
      "N              687\n",
      "C23 C25 C27      4\n",
      "G6               4\n",
      "B96 B98          4\n",
      "C22 C26          3\n",
      "              ... \n",
      "E34              1\n",
      "C7               1\n",
      "C54              1\n",
      "E36              1\n",
      "C148             1\n",
      "Name: Cabin, Length: 148, dtype: int64\n"
     ]
    }
   ],
   "source": [
    "print(titanic_df['Cabin'].value_counts())"
   ]
  },
  {
   "cell_type": "code",
   "execution_count": 64,
   "id": "f1302f9b",
   "metadata": {},
   "outputs": [
    {
     "name": "stdout",
     "output_type": "stream",
     "text": [
      "S    644\n",
      "C    168\n",
      "Q     77\n",
      "N      2\n",
      "Name: Embarked, dtype: int64\n"
     ]
    }
   ],
   "source": [
    "print(titanic_df['Embarked'].value_counts())"
   ]
  },
  {
   "cell_type": "code",
   "execution_count": 65,
   "id": "0bc883c6",
   "metadata": {},
   "outputs": [],
   "source": [
    "# Cabin의 경우 선실 번호 중 선실 등급을 나타내는 첫 번째 알파벳이 중요해 보인다. 앞 문자만 추출해 본다.\n",
    "titanic_df['Cabin'] = titanic_df['Cabin'].str[:1]"
   ]
  },
  {
   "cell_type": "code",
   "execution_count": 66,
   "id": "497d74f8",
   "metadata": {},
   "outputs": [
    {
     "data": {
      "text/plain": [
       "Sex     Survived\n",
       "female  0            81\n",
       "        1           233\n",
       "male    0           468\n",
       "        1           109\n",
       "Name: Survived, dtype: int64"
      ]
     },
     "execution_count": 66,
     "metadata": {},
     "output_type": "execute_result"
    }
   ],
   "source": [
    "#성별이 생존 확률에 어떤 영향을 미쳤는지, 성별에 따른 생존자 수를 비교해 본다.\n",
    "titanic_df.groupby(['Sex','Survived'])['Survived'].count()"
   ]
  },
  {
   "cell_type": "code",
   "execution_count": 67,
   "id": "1850aa85",
   "metadata": {},
   "outputs": [
    {
     "data": {
      "text/plain": [
       "<AxesSubplot:xlabel='Sex', ylabel='Survived'>"
      ]
     },
     "execution_count": 67,
     "metadata": {},
     "output_type": "execute_result"
    },
    {
     "data": {
      "image/png": "[encoded data removed]",
      "text/plain": [
       "<Figure size 432x288 with 1 Axes>"
      ]
     },
     "metadata": {
      "needs_background": "light"
     },
     "output_type": "display_data"
    }
   ],
   "source": [
    "# 시각화를 위해 seaborn 패키지를 이용한다.\n",
    "sns.barplot(x='Sex', y='Survived',data=titanic_df)"
   ]
  },
  {
   "cell_type": "code",
   "execution_count": 68,
   "id": "eda2de45",
   "metadata": {},
   "outputs": [
    {
     "data": {
      "text/plain": [
       "<AxesSubplot:xlabel='Pclass', ylabel='Survived'>"
      ]
     },
     "execution_count": 68,
     "metadata": {},
     "output_type": "execute_result"
    },
    {
     "data": {
      "image/png": "[encoded data removed]",
      "text/plain": [
       "<Figure size 432x288 with 1 Axes>"
      ]
     },
     "metadata": {
      "needs_background": "light"
     },
     "output_type": "display_data"
    }
   ],
   "source": [
    "# Pclass에 따라 생존 확률을 알아 본다.\n",
    "sns.barplot(x='Pclass',y='Survived',hue='Sex',data=titanic_df)\n",
    "# hue 파라미터: 색깔로 구분함\n",
    "# 여성일 경우 일, 이등실에 따른 생존 확률의 차이는 크지 않으나, 삼등실의 경우 생존확률이 떨어짐을 알 수 잇다. \n",
    "# 남성은 일등실의 생존확률이 이,삼등실의 그것보다 높다."
   ]
  },
  {
   "cell_type": "code",
   "execution_count": 69,
   "id": "31f26b90",
   "metadata": {},
   "outputs": [
    {
     "data": {
      "image/png": "[encoded data removed]",
      "text/plain": [
       "<Figure size 720x432 with 1 Axes>"
      ]
     },
     "metadata": {
      "needs_background": "light"
     },
     "output_type": "display_data"
    }
   ],
   "source": [
    "#이번에 age에 따른 생존확률을 알아보겟습니다.\n",
    "# 범위 별로 분류해 카테고리 값을 할당하겠습니다.\n",
    "def get_category(age):\n",
    "    cat = ''\n",
    "    if age<=-1: cat = 'Unknown'\n",
    "    elif age<=5: cat = 'Baby'\n",
    "    elif age<=12: cat = 'Children'\n",
    "    elif age<=18: cat = \"Teenager\"\n",
    "    elif age<=25: cat=  'Student'\n",
    "    elif age<=35: cat ='Young Adult'\n",
    "    elif age<=60: cat = 'Adult'\n",
    "    elif age>61: 'Elderly' # else : cat = 'Eldery'\n",
    "    return cat\n",
    "\n",
    "# 그래프의 크기 설정 => 크기를 크게 함\n",
    "plt.figure(figsize=(10,6))\n",
    "\n",
    "#x축의 값을 순차적으로 표시하기 위해\n",
    "groups_names = ['Unknown','Baby','Children','Teenager','Student','Young Adult', 'Adult','Eldery']\n",
    "#lambda 식에 위에서 생성한 get_category()함수를 반환값으로 지정\n",
    "titanic_df['Age_cat'] = titanic_df['Age'].apply(lambda x: get_category(x))\n",
    "#Age_Cat 칼럼의 값 1 건이 x로 입력이 되고 함수 get_category의 인자로 사용된다.\n",
    "sns.barplot(x='Age_cat',y='Survived',hue='Sex',data=titanic_df,order=groups_names)\n",
    "titanic_df.drop('Age_cat',axis=1,inplace=True)\n",
    "#apply(lambda)식을 하겠다는 것은 한 개의 레코드(로우) 별로 체크를 해서 반환하겠다는 의미입니다.\n",
    "#pandas DF는 기본적으로 레코드 단위"
   ]
  },
  {
   "cell_type": "code",
   "execution_count": 70,
   "id": "2184bf28",
   "metadata": {},
   "outputs": [],
   "source": [
    "# 이제 Sex, Age, Pclass등이 중요하게 생존을 좌우하는 feature임을 알았습니다. 문자열 카테고리를 숫자형 카테고리로 변환합니다.\n",
    "# 인코딩은 사이킷런의 LabelEncoder 클래스를 이용해 레이블 인코딩을 적용하겠습니다.\n",
    "# 여러 칼럼을 한번에 인코딩 하기 위해 함수 encode_features() 를 생성한다.\n",
    "from sklearn import preprocessing\n",
    "from sklearn.preprocessing import LabelEncoder\n",
    "def encode_features(dataDF):\n",
    "    features = ['Cabin','Sex','Embarked']\n",
    "    for feature in features:\n",
    "        le = preprocessing.LabelEncoder()\n",
    "        le = le.fit(dataDF[feature])\n",
    "        dataDF[feature] = le.transform(dataDF[feature])\n",
    "    return dataDF\n",
    "titanic_df = encode_features(titanic_df)\n",
    "# 이제 문자열 카테고리가 숫자형 카테고리로 변환되었다."
   ]
  },
  {
   "cell_type": "code",
   "execution_count": 71,
   "id": "7f208ca9",
   "metadata": {},
   "outputs": [],
   "source": [
    "# feature들을 가공한 내역을 정리하고 이를 함수로 만들어 쉽게 재사용할 수 있도록 만든다.\n",
    "#데이터의 전처리를 전체적으로 호출하는 함수는 transform_features()이며 Null처리,포매팅,인코딩을 수행하는 함수로 구성했다.\n",
    "\n",
    "def fillna(df):\n",
    "    df['Age'].fillna(df['Age'].mean(), inplace=True)\n",
    "    df['Cabin'].fillna('N',inplace=True)\n",
    "    df['Embarked'].fillna('N',inplace=True)\n",
    "    df['Fare'].fillna(0,inplace=True)\n",
    "    return df\n",
    "def drop_features(df):\n",
    "    df.drop(['PassengerId','Name','Ticket'], axis=1, inplace=True)\n",
    "    return df\n",
    "def format_features(df):\n",
    "    df['Cabin']=df['Cabin'].str[:1]\n",
    "    features = ['Cabin','Sex','Embarked']\n",
    "    for feature in features:\n",
    "        le = LabelEncoder()\n",
    "        le = le.fit(df[feature])\n",
    "        df[feature] = le.transform(df[feature])\n",
    "    return df\n",
    "\n",
    "#데이터 전처리를 수행하는 transform_features()함수를 만들었으니 이 함수를 이용해 다시 원본 데이터를 가공하겠습니다.\n",
    "# 원본 csv 파일을 다시 로딩하고 타이타닉 생존자 데이터 세트의 레이블인 Survived 속성만 별도 분리해 클래스 결정값 데이터 세트로 만들겠습니다.\n",
    "# 그리고 Survived 속성을 드롭해 피처 데이터 세트를 만들겠습니다. \n",
    "# 생성된 feature data set에 transform_features()를 적용해 데이터를 가공합니다."
   ]
  },
  {
   "cell_type": "code",
   "execution_count": 72,
   "id": "655b73b5",
   "metadata": {},
   "outputs": [],
   "source": [
    "def transform_features(df):\n",
    "    df = fillna(df)\n",
    "    df = drop_features(df)\n",
    "    df = format_features(df)\n",
    "    return df\n",
    "titanic_df = pd.read_csv('train.csv')\n",
    "y_titanic_df = titanic_df['Survived']\n",
    "x_titanic_df = titanic_df.drop('Survived',axis=1)\n",
    "x_titanic_df = transform_features(x_titanic_df)"
   ]
  },
  {
   "cell_type": "code",
   "execution_count": 73,
   "id": "e941187c",
   "metadata": {},
   "outputs": [],
   "source": [
    "# 이제 train_test_split() API를 이용해 별도의 테스트 데이터 셋을 추출합니다.\n",
    "\n",
    "from sklearn.model_selection import train_test_split\n",
    "x_train,x_test,y_train,y_test = train_test_split(x_titanic_df, y_titanic_df,test_size=0.2,random_state=11)\n"
   ]
  },
  {
   "cell_type": "code",
   "execution_count": 74,
   "id": "124e7348",
   "metadata": {},
   "outputs": [
    {
     "name": "stdout",
     "output_type": "stream",
     "text": [
      "결정트리 정확도: 0.7877\n",
      "랜덤 포레스트 정확도: 0.8547\n",
      "로지스틱 회귀 정확도: 0.8492\n"
     ]
    },
    {
     "name": "stderr",
     "output_type": "stream",
     "text": [
      "C:\\Users\\eunse\\anaconda3\\lib\\site-packages\\sklearn\\linear_model\\_logistic.py:763: ConvergenceWarning: lbfgs failed to converge (status=1):\n",
      "STOP: TOTAL NO. of ITERATIONS REACHED LIMIT.\n",
      "\n",
      "Increase the number of iterations (max_iter) or scale the data as shown in:\n",
      "    https://scikit-learn.org/stable/modules/preprocessing.html\n",
      "Please also refer to the documentation for alternative solver options:\n",
      "    https://scikit-learn.org/stable/modules/linear_model.html#logistic-regression\n",
      "  n_iter_i = _check_optimize_result(\n"
     ]
    }
   ],
   "source": [
    "# 결정트리, 랜덤 포레스트, 로지스틱 회귀를 이용한다. \n",
    "# 사이킷런 클래스를 이용해 분리한 학습 데이터와 테스트 데이터를 기반으로 머신러닝 모델을 학습하고 예측한다.\n",
    "\n",
    "from sklearn.tree import DecisionTreeClassifier\n",
    "from sklearn.ensemble import RandomForestClassifier\n",
    "from sklearn.linear_model import LogisticRegression\n",
    "from sklearn.metrics import accuracy_score\n",
    "\n",
    "dt_clf = DecisionTreeClassifier(random_state=11)\n",
    "rf_clf = RandomForestClassifier(random_state=11)\n",
    "lr_clf = LogisticRegression()\n",
    "\n",
    "dt_clf.fit(x_train,y_train)\n",
    "dt_pred = dt_clf.predict(x_test)\n",
    "print('결정트리 정확도: {0:.4f}'.format(accuracy_score(y_test,dt_pred)))\n",
    "\n",
    "rf_clf.fit(x_train,y_train)\n",
    "rf_pred = rf_clf.predict(x_test)\n",
    "print('랜덤 포레스트 정확도: {0:.4f}'.format(accuracy_score(y_test,rf_pred)))\n",
    "\n",
    "lr_clf.fit(x_train,y_train)\n",
    "lr_pred = lr_clf.predict(x_test)\n",
    "print('로지스틱 회귀 정확도: {0:.4f}'.format(accuracy_score(y_test,lr_pred)))"
   ]
  },
  {
   "cell_type": "code",
   "execution_count": 75,
   "id": "2ad12fc6",
   "metadata": {},
   "outputs": [],
   "source": [
    "# 세 개의 알고리즘 중 LogisticRegression이 높은 정확도를 나타내고 있습니다. \n",
    "# 다음으로 교차 검증을 통해 결정드리 모델을 평가하게씁ㄴ디ㅏ."
   ]
  },
  {
   "cell_type": "code",
   "execution_count": 78,
   "id": "cbad4c99",
   "metadata": {},
   "outputs": [
    {
     "name": "stdout",
     "output_type": "stream",
     "text": [
      "평균 정확도:0.7823\n"
     ]
    }
   ],
   "source": [
    "# 먼저 KFold클래스를 사용해 교차 검증을 수행하며, 폴드 개수는 5개로 설정합니다.\n",
    "from sklearn.model_selection import KFold\n",
    "def exec_kfold(clf,folds=5):\n",
    "    #폴드 수만큼 예측결과 저장을 위한 리스트 객체 생성\n",
    "    kfold = KFold(n_splits=folds)\n",
    "    scores = []\n",
    "    \n",
    "    #교차 검증 수행\n",
    "    for iter_count,(train_index, test_index) in enumerate(kfold.split(x_titanic_df)):\n",
    "        x_train,x_test = x_titanic_df.values[train_index], x_titanic_df.values[test_index]\n",
    "        y_train,y_test = y_titanic_df.values[train_index], y_titanic_df.values[test_index]\n",
    "        clf.fit(x_train, y_train)\n",
    "        predictions = clf.predict(x_test)\n",
    "        accuracy = accuracy_score(y_test,predictions)\n",
    "        scores.append(accuracy)\n",
    "    mean_score = np.mean(scores)\n",
    "    print('평균 정확도:{0:.4f}'.format(mean_score))\n",
    "    \n",
    "    \n",
    "exec_kfold(dt_clf, folds=5)"
   ]
  },
  {
   "cell_type": "code",
   "execution_count": 79,
   "id": "2f92f8e1",
   "metadata": {},
   "outputs": [
    {
     "name": "stdout",
     "output_type": "stream",
     "text": [
      "교차 검증 0 정확도0.0000\n",
      "교차 검증 1 정확도1.0000\n",
      "교차 검증 2 정확도2.0000\n",
      "교차 검증 3 정확도3.0000\n",
      "교차 검증 4 정확도4.0000\n",
      "평균 정확도:0.7879\n"
     ]
    }
   ],
   "source": [
    "# 이번에는 cross_val_score()API를 이용해 수행합니다.\n",
    "from sklearn.model_selection import cross_val_score\n",
    "\n",
    "scores = cross_val_score(dt_clf, x_titanic_df, y_titanic_df, cv=5)\n",
    "for iter_count, accuracy in enumerate(scores):\n",
    "    print('교차 검증 {0} 정확도{0:.4f}'.format(iter_count, accuracy))\n",
    "    \n",
    "print(\"평균 정확도:{0:.4f}\".format(np.mean(scores)))"
   ]
  },
  {
   "cell_type": "code",
   "execution_count": 80,
   "id": "72649da8",
   "metadata": {},
   "outputs": [
    {
     "data": {
      "text/plain": [
       "GridSearchCV(cv=5, estimator=DecisionTreeClassifier(random_state=11),\n",
       "             param_grid={'max_depth': [2, 3, 5, 10],\n",
       "                         'min_samples_leaf': [1, 5, 8],\n",
       "                         'min_samples_split': [2, 3, 5]},\n",
       "             scoring='accuracy')"
      ]
     },
     "execution_count": 80,
     "metadata": {},
     "output_type": "execute_result"
    }
   ],
   "source": [
    "# 마지막으로 GridSearchCV를 사용해 결정트리의 최적 하이퍼 파라미터를 찾고 예측 성능을 측정하겠습니다.\n",
    "from sklearn.model_selection import GridSearchCV\n",
    "parameters = {'max_depth':[2,3,5,10],\n",
    "             'min_samples_split':[2,3,5],'min_samples_leaf':[1,5,8]}\n",
    "grid_dclf = GridSearchCV(dt_clf,param_grid=parameters, scoring='accuracy',cv=5)\n",
    "grid_dclf.fit(x_train,y_train)\n"
   ]
  },
  {
   "cell_type": "code",
   "execution_count": null,
   "id": "f534f6df",
   "metadata": {},
   "outputs": [],
   "source": []
  }
 ],
 "metadata": {
  "kernelspec": {
   "display_name": "Python 3 (ipykernel)",
   "language": "python",
   "name": "python3"
  },
  "language_info": {
   "codemirror_mode": {
    "name": "ipython",
    "version": 3
   },
   "file_extension": ".py",
   "mimetype": "text/x-python",
   "name": "python",
   "nbconvert_exporter": "python",
   "pygments_lexer": "ipython3",
   "version": "3.9.7"
  }
 },
 "nbformat": 4,
 "nbformat_minor": 5
}
