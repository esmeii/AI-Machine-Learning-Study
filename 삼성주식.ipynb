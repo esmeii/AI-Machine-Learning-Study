{
  "nbformat": 4,
  "nbformat_minor": 0,
  "metadata": {
    "colab": {
      "name": "삼성주식.ipynb",
      "provenance": [],
      "authorship_tag": "ABX9TyPZmj4wrx+4tw0RO4QDVeFR",
      "include_colab_link": true
    },
    "kernelspec": {
      "name": "python3",
      "display_name": "Python 3"
    },
    "language_info": {
      "name": "python"
    }
  },
  "cells": [
    {
      "cell_type": "markdown",
      "metadata": {
        "id": "view-in-github",
        "colab_type": "text"
      },
      "source": [
        "<a href=\"https://colab.research.google.com/github/hi-rama/AI-Machine-Learning-Study/blob/main/%EC%82%BC%EC%84%B1%EC%A3%BC%EC%8B%9D.ipynb\" target=\"_parent\"><img src=\"https://colab.research.google.com/assets/colab-badge.svg\" alt=\"Open In Colab\"/></a>"
      ]
    },
    {
      "cell_type": "code",
      "execution_count": null,
      "metadata": {
        "id": "jC14ZG5wlzr8"
      },
      "outputs": [],
      "source": [
        "import pandas as pd\n",
        "import numpy as np\n",
        "import matplotlib.pyplot as plt\n",
        "from keras.models import Sequential\n",
        "from keras.layers import LSTM, Dropout, Dense, Activation\n",
        "import datetime\n",
        "\n",
        "data_low = pd.read_csv('')\n",
        "data = data_low\n",
        "\n",
        "data = data.dropna()\n",
        "data.isnull().sum()\n",
        "\n",
        "# keras, matplotlib 라이브러리를 import 후 csv 파일을 불러온다.\n",
        "# dropna를 사용해 null 값을 제거해 null 처리를 진행한다."
      ]
    },
    {
      "cell_type": "code",
      "source": [
        "high_prices = data['High'].values\n",
        "low_prices = data['Low'].values\n",
        "mid_prices = (high_prices + low_prices) / 2"
      ],
      "metadata": {
        "id": "c-qr6raEml-6"
      },
      "execution_count": null,
      "outputs": []
    },
    {
      "cell_type": "code",
      "source": [
        "seq_len = 50\n",
        "sequence_length = seq_len +1\n",
        "result = []\n",
        "for index in range(len(mid_prices)-sequence_length):\n",
        "  result.append(mid_prices[index : index + sequence_length])\n",
        "  # 50개의 데이터를 연속적으로 읽어 RNN 구조를 만든다"
      ],
      "metadata": {
        "id": "x3xrTfYimzZb"
      },
      "execution_count": null,
      "outputs": []
    },
    {
      "cell_type": "code",
      "source": [
        "normalized_data = []\n",
        "normalized_data_price = []\n",
        "\n",
        "for window in result :\n",
        "  normalized_window = [((float(p))/ float(window[0])) -1 ) for p in window]\n",
        "  normalized_data.append(normalized_window)\n",
        "  normalized_data_price.append(normalized_window_price)\n",
        "\n",
        "result = np.array(normalized_data) \n",
        "row = int(round(result.shape[0] * 0.9)) \n",
        "train = result[:row, :]\n",
        "\n",
        "x_train = train[:,:-1]\n",
        "x_train = np.reshape(x_train, (x_train.shape[0], x_train.shape[1],1))\n",
        "y_train = train[:,-1]\n",
        "\n",
        "x_test = result[row:,:-1]\n",
        "x_test = np.reshape(x_test, (x_test.shape[0],x_test.shape[1],1))\n",
        "y_test = result[row:, -1]\n",
        "\n",
        "x_train.shape,x_test.shape"
      ],
      "metadata": {
        "id": "FbjDL8ognI_S"
      },
      "execution_count": null,
      "outputs": []
    },
    {
      "cell_type": "code",
      "source": [
        "model  = Sequential()\n",
        "\n",
        "model.add(LTSM(50, return_sequences = True, input_shape(50,1)))\n",
        "model.add(LTSM(64, return_sequences = False))\n",
        "model.add(Dense(1, activation='linear'))\n",
        "model.compile(loss='mse', optimizer='rmsprop')\n",
        "model.summary()"
      ],
      "metadata": {
        "id": "jVPY1GcgopVq"
      },
      "execution_count": null,
      "outputs": []
    },
    {
      "cell_type": "code",
      "source": [
        "model.fit(x_train, y_train, validation_data=(x_test,y_test),batch_size=20, epochs=10)"
      ],
      "metadata": {
        "id": "U92T8SkRpAFw"
      },
      "execution_count": null,
      "outputs": []
    },
    {
      "cell_type": "code",
      "source": [
        "pred = model.predict(x_test)\n",
        "fig = plt.figure(facecolor='white', figsize=(20,10))\n",
        "ax = fig.add_subplot(111)\n",
        "ax.plot(y_test, label='True')\n",
        "ax.plot(pred, label='Prediction')\n",
        "ax.legend()\n",
        "plt.show()"
      ],
      "metadata": {
        "id": "OmKtLgjypJ9p"
      },
      "execution_count": null,
      "outputs": []
    }
  ]
}