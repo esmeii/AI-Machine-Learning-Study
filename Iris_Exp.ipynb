{
 "cells": [
  {
   "cell_type": "code",
   "execution_count": 1,
   "id": "9e9278e4",
   "metadata": {},
   "outputs": [
    {
     "name": "stdout",
     "output_type": "stream",
     "text": [
      "iris target :  [0 0 0 0 0 0 0 0 0 0 0 0 0 0 0 0 0 0 0 0 0 0 0 0 0 0 0 0 0 0 0 0 0 0 0 0 0\n",
      " 0 0 0 0 0 0 0 0 0 0 0 0 0 1 1 1 1 1 1 1 1 1 1 1 1 1 1 1 1 1 1 1 1 1 1 1 1\n",
      " 1 1 1 1 1 1 1 1 1 1 1 1 1 1 1 1 1 1 1 1 1 1 1 1 1 1 2 2 2 2 2 2 2 2 2 2 2\n",
      " 2 2 2 2 2 2 2 2 2 2 2 2 2 2 2 2 2 2 2 2 2 2 2 2 2 2 2 2 2 2 2 2 2 2 2 2 2\n",
      " 2 2]\n"
     ]
    },
    {
     "data": {
      "text/html": [
       "<div>\n",
       "<style scoped>\n",
       "    .dataframe tbody tr th:only-of-type {\n",
       "        vertical-align: middle;\n",
       "    }\n",
       "\n",
       "    .dataframe tbody tr th {\n",
       "        vertical-align: top;\n",
       "    }\n",
       "\n",
       "    .dataframe thead th {\n",
       "        text-align: right;\n",
       "    }\n",
       "</style>\n",
       "<table border=\"1\" class=\"dataframe\">\n",
       "  <thead>\n",
       "    <tr style=\"text-align: right;\">\n",
       "      <th></th>\n",
       "      <th>sepal length (cm)</th>\n",
       "      <th>sepal width (cm)</th>\n",
       "      <th>petal length (cm)</th>\n",
       "      <th>petal width (cm)</th>\n",
       "      <th>label</th>\n",
       "    </tr>\n",
       "  </thead>\n",
       "  <tbody>\n",
       "    <tr>\n",
       "      <th>0</th>\n",
       "      <td>5.1</td>\n",
       "      <td>3.5</td>\n",
       "      <td>1.4</td>\n",
       "      <td>0.2</td>\n",
       "      <td>0</td>\n",
       "    </tr>\n",
       "    <tr>\n",
       "      <th>1</th>\n",
       "      <td>4.9</td>\n",
       "      <td>3.0</td>\n",
       "      <td>1.4</td>\n",
       "      <td>0.2</td>\n",
       "      <td>0</td>\n",
       "    </tr>\n",
       "    <tr>\n",
       "      <th>2</th>\n",
       "      <td>4.7</td>\n",
       "      <td>3.2</td>\n",
       "      <td>1.3</td>\n",
       "      <td>0.2</td>\n",
       "      <td>0</td>\n",
       "    </tr>\n",
       "  </tbody>\n",
       "</table>\n",
       "</div>"
      ],
      "text/plain": [
       "   sepal length (cm)  sepal width (cm)  petal length (cm)  petal width (cm)  \\\n",
       "0                5.1               3.5                1.4               0.2   \n",
       "1                4.9               3.0                1.4               0.2   \n",
       "2                4.7               3.2                1.3               0.2   \n",
       "\n",
       "   label  \n",
       "0      0  \n",
       "1      0  \n",
       "2      0  "
      ]
     },
     "execution_count": 1,
     "metadata": {},
     "output_type": "execute_result"
    }
   ],
   "source": [
    "from sklearn.datasets import load_iris\n",
    "from sklearn.tree import DecisionTreeClassifier\n",
    "from sklearn.model_selection import train_test_split\n",
    "# 사이킷런 패키지 내의 모듈명은 sklearn으로 시작합니다. sklearn.datasets 내의 모듈은 사이킷런에서 자체적으로 제공하는 데이터 세트를 \n",
    "# 생성하는 모듈의 모임입니다. sklearn.tree 내의 모듈은 트리 기반 ml 알고리즘을 구현한 클래스의 모임입니다. sklearn.model_selection은\n",
    "# 학습 데이터와 검증 데이터, 예측 데이터로 데이터를 분리하거나 최적의 하이퍼 파라미터로 평가하기 위한 다양한 모듈의 모임입니다.\n",
    "\n",
    "# 데이터 세트를 학습 데이터와 테스트 데이터로 분리하는 데는 train_test_split() 함수를 사용할 것입니다.\n",
    "# load_iris() 함수를 이용해 붓꽃 데이터 세트를 로딩한 후, 피처들과 데이터 값이 어떻게 구성돼 있는지 확인하기 위해 DataFrame으로\n",
    "# 변환하겠습니다.\n",
    "\n",
    "import pandas as pd\n",
    "\n",
    "# 붓꽃 데이터 로딩\n",
    "iris = load_iris()\n",
    "\n",
    "# iris.data는 iris 데이터에서 feature마능로 된 데이터를 numpy로 갖고 있다.\n",
    "iris_data = iris.data \n",
    "\n",
    "# iris.target은 붓꽃 데이터에서 레이블 데이터를 numpy로 갖고있다.\n",
    "# target data는 정답을 의미한다. \n",
    "iris_label = iris.target\n",
    "print('iris target : ', iris_label)\n",
    "#print('iris target 명:'. iris.target_names)\n",
    "\n",
    "# 붓꽃 데이터 세트를 자세히 보기 위해 DataFrame으로 변환\n",
    "iris_df = pd.DataFrame(data=iris_data, columns=iris.feature_names)\n",
    "iris_df['label'] = iris.target\n",
    "iris_df.head(3)\n",
    "# feature에는 sepal length, sepal width, petal length, petal width가 있고 레이블은 0,1,2 로 되어있다.\n",
    "# 각 레이블은 품종을 의미한다."
   ]
  },
  {
   "cell_type": "code",
   "execution_count": 2,
   "id": "a5af67fc",
   "metadata": {},
   "outputs": [],
   "source": [
    "# 다음으로 학습용 데이터와 테스트용 데이터를 분리\n",
    "# 이를 위해 사이킷런은 train_test_split() API 를 제공함\n",
    "# train_test_split()을 이용하면 학습 데이터와 테스트 데이터를 test_size 파라미터 입력값의 비율로 분할한다.\n",
    "# test_size=0.2 로 입력하면 테스트 데이터는 20%, 학습 데이터는 80%가 된다. \n",
    "\n",
    "X_train, X_test, Y_train, Y_test = train_test_split(iris_data, iris_label, test_size=0.2,random_state=11)\n",
    "#train_test_split()의 첫번째 파라미터인 iris_Data는 feature 데이터 세트이다. \n",
    "# 두번째 파라미터인 iris_label은 레이블 데이터 세트\n",
    "# test_size=0.2는 전체 데이터 중에 테스트 데이터 세트의 비율이다.\n",
    "# 마지막으로 random_State는 호출할 때마다 같은 학습/데이터 용 데이터 세트를 생성하기 위해 주어지는 난수 발생 값이다.( seed 값임_)\n"
   ]
  },
  {
   "cell_type": "code",
   "execution_count": 6,
   "id": "dd68d922",
   "metadata": {},
   "outputs": [
    {
     "name": "stdout",
     "output_type": "stream",
     "text": [
      "예측 정확도: 0.9333\n"
     ]
    }
   ],
   "source": [
    "# 이제 학습 데이터를 확보했으니 이 데이터를 기반으로 머신러닝 분류 알고리즘의 하나인 의사 결정 트리를 이용해 학습과 예측을 수행해 보겠습니다.\n",
    "# 사이킷런의 의사 결정 트리 클래스인 DecisionTreeClassifier를 객체로 생성합니다.\n",
    "# DecisionClassfier 객체의 fit()메소드에 학습용 피처 데이터와 레이블 데이터 세트를 입력해 호출하면 학습을 수행합니다.\n",
    "\n",
    "#DecsionTreeClassifier 객체 생성\n",
    "df_clf = DecisionTreeClassifier(random_state=11)\n",
    "df_clf.fit(X_train,Y_train)\n",
    "\n",
    "# 예측은 반드시 학습 데이터가 아닌 다른 데이터를 사요앻야 하면, predict()메소드를 사용하면 예측값을 반환한다.\n",
    "\n",
    "pred = df_clf.predict(X_test)\n",
    "\n",
    "# 예측 결과를 바타으로 성능을 평가해 본다. 정확도 측정을 위해 accuracy_score()메소드 사용\n",
    "from sklearn.metrics import accuracy_score\n",
    "print('예측 정확도: {0:.4f}'.format(accuracy_score(Y_test, pred)))"
   ]
  },
  {
   "cell_type": "code",
   "execution_count": null,
   "id": "895561a3",
   "metadata": {},
   "outputs": [],
   "source": [
    "# 학습한 의사 결정 트리 알고리즘 예측 정확도가 0.93333(93%) 로 측정됐습니다."
   ]
  }
 ],
 "metadata": {
  "kernelspec": {
   "display_name": "Python 3 (ipykernel)",
   "language": "python",
   "name": "python3"
  },
  "language_info": {
   "codemirror_mode": {
    "name": "ipython",
    "version": 3
   },
   "file_extension": ".py",
   "mimetype": "text/x-python",
   "name": "python",
   "nbconvert_exporter": "python",
   "pygments_lexer": "ipython3",
   "version": "3.9.7"
  }
 },
 "nbformat": 4,
 "nbformat_minor": 5
}
